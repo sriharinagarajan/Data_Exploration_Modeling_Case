{
 "cells": [
  {
   "cell_type": "code",
   "execution_count": 19,
   "metadata": {
    "collapsed": true
   },
   "outputs": [],
   "source": [
    "import pandas as pd\n",
    "import io\n",
    "import requests\n",
    "import json\n",
    "\n",
    "#Saving csv content from git in a pandas dataframe.\n",
    "url=\"https://raw.githubusercontent.com/abeasock/coding_assessment/master/locations.csv\"\n",
    "s=requests.get(url).content\n",
    "locations = pd.read_csv(io.StringIO(s.decode('utf-8')))"
   ]
  },
  {
   "cell_type": "code",
   "execution_count": 20,
   "metadata": {
    "collapsed": true
   },
   "outputs": [],
   "source": [
    "#Extracting hour of day and date as separate columns from timestamp column in csv.\n",
    "import dateutil.parser\n",
    "def parse_full_date(row):\n",
    "    yourdate = pd.to_datetime(dateutil.parser.parse(row['timestamp']))\n",
    "    return yourdate\n",
    "\n",
    "locations['datetime'] = locations.apply(parse_full_date,axis=1)\n",
    "#API returns hour as '1200' for 12PM etc. To match with it, we are converting our hour to string and appending 2 zeros.\n",
    "locations['hour'] = locations['datetime'].dt.hour.astype(str)+'00'\n",
    "locations['hour'] = locations['hour'].replace('000','0')\n",
    "locations['date'] = locations['datetime'].dt.date"
   ]
  },
  {
   "cell_type": "code",
   "execution_count": 21,
   "metadata": {
    "collapsed": true
   },
   "outputs": [],
   "source": [
    "#Converting latitude and longitude to strings to pass to API call.\n",
    "locations['latitude'] = locations['latitude'].astype(str)\n",
    "locations['longitude'] = locations['longitude'].astype(str)"
   ]
  },
  {
   "cell_type": "code",
   "execution_count": 4,
   "metadata": {
    "collapsed": true
   },
   "outputs": [],
   "source": [
    "#getweather function takes in API weather request url and dataframe row as input and extracts tempF, weatherDesc, precipMM and\n",
    "#cloudcover from the json file returned by the API.\n",
    "def getweather(url,row):\n",
    "    dic = json.loads(requests.get(url).content)\n",
    "    hourly = dic['data']['weather'][0]['hourly']\n",
    "    df = pd.DataFrame(hourly)\n",
    "    tempF = df[df['time']==row['hour']]\n",
    "    tempF = tempF.get_value(tempF.index[0],'tempF')\n",
    "    weatherDesc = df[df['time']==row['hour']]\n",
    "    weatherDesc = weatherDesc.get_value(weatherDesc.index[0],'weatherDesc')[0]['value']\n",
    "    precipMM = df[df['time']==row['hour']]\n",
    "    precipMM = precipMM.get_value(precipMM.index[0],'precipMM')\n",
    "    cloudcover = df[df['time']==row['hour']]\n",
    "    cloudcover = cloudcover.get_value(cloudcover.index[0],'cloudcover')\n",
    "    return tempF, weatherDesc, precipMM, cloudcover"
   ]
  },
  {
   "cell_type": "code",
   "execution_count": 5,
   "metadata": {
    "collapsed": true
   },
   "outputs": [],
   "source": [
    "#getlocation function takes in API search request url and dataframe row as input and extracts areaname,\n",
    "#state and population from JSON output\n",
    "def getlocation(url,row):\n",
    "    dic = json.loads(requests.get(url).content)\n",
    "    result = dic['search_api']['result']\n",
    "    df = pd.DataFrame(result)\n",
    "    areaName = df['areaName'][0][0]['value']\n",
    "    state = df['region'][0][0]['value']\n",
    "    population = df['population'][0]\n",
    "    return areaName, state, population"
   ]
  },
  {
   "cell_type": "code",
   "execution_count": 6,
   "metadata": {
    "collapsed": true
   },
   "outputs": [],
   "source": [
    "#Initializing new variables in the dataframe to be written to csv.\n",
    "locations[\"tempF\"] = \"\"\n",
    "locations[\"weatherDesc\"] = \"\"\n",
    "locations[\"precipMM\"] = \"\"\n",
    "locations[\"cloudcover\"] = \"\"\n",
    "locations[\"areaName\"] = \"\"\n",
    "locations[\"state\"] = \"\"\n",
    "locations[\"population\"] = \"\"\n",
    "#API key for Srihari.\n",
    "key = \"81be49b0cf4c4459b3d130631171108\"\n",
    "#Weather API request url.\n",
    "weatherurl = \"http://api.worldweatheronline.com/premium/v1/past-weather.ashx?key=\"\n",
    "#Location API request url.\n",
    "locationurl = \"http://api.worldweatheronline.com/premium/v1/search.ashx?key=\"\n",
    "#For every row in locations dataframe, we create the complete urls for each API and call the getweather and getlocation functions.\n",
    "for index, row in locations.iterrows():\n",
    "    wurl = weatherurl + key + \"&q=\"+ row['latitude'] + \",\" + row['longitude'] + \"&tp=1&date=\" + str(row['date']) + \"&format=json\"\n",
    "    locations.loc[index,\"tempF\"], locations.loc[index,\"weatherDesc\"], locations.loc[index,\"precipMM\"], locations.loc[index,\"cloudcover\"] = getweather(wurl,row)\n",
    "    lurl = locationurl + key + \"&q=\"+ row['latitude'] + \",\" + row['longitude'] + \"&num_of_results=1\" + \"&format=json\"\n",
    "    locations.loc[index,\"areaName\"], locations.loc[index,\"state\"], locations.loc[index,\"population\"] = getlocation(lurl,row)"
   ]
  },
  {
   "cell_type": "code",
   "execution_count": 7,
   "metadata": {
    "collapsed": true
   },
   "outputs": [],
   "source": [
    "#Writing out the locations dataframe to locations_weather.csv file.\n",
    "output_col = ['timestamp','latitude','longitude','areaName','state','population','tempF','weatherDesc','precipMM','cloudcover']\n",
    "locations.to_csv('C:/PravMC/locations_weather.csv',columns=output_col,index=False)"
   ]
  }
 ],
 "metadata": {
  "kernelspec": {
   "display_name": "Python 3",
   "language": "python",
   "name": "python3"
  },
  "language_info": {
   "codemirror_mode": {
    "name": "ipython",
    "version": 3
   },
   "file_extension": ".py",
   "mimetype": "text/x-python",
   "name": "python",
   "nbconvert_exporter": "python",
   "pygments_lexer": "ipython3",
   "version": "3.6.1"
  }
 },
 "nbformat": 4,
 "nbformat_minor": 2
}

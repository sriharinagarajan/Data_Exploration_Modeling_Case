{
 "cells": [
  {
   "cell_type": "markdown",
   "metadata": {},
   "source": [
    "Step 1:  Joining patients.csv and appointments.csv and keeping only matching records."
   ]
  },
  {
   "cell_type": "code",
   "execution_count": 1,
   "metadata": {
    "collapsed": true
   },
   "outputs": [],
   "source": [
    "#Importing Patients.csv and appointments.csv from git and storing them in separate pandas dataframes\n",
    "\n",
    "import pandas as pd\n",
    "import io\n",
    "import requests\n",
    "\n",
    "url=\"https://raw.githubusercontent.com/abeasock/coding_assessment/master/patients.csv?_sm_au_=iVV7V2PTJZ3j1f00\"\n",
    "s=requests.get(url).content\n",
    "patients = pd.read_csv(io.StringIO(s.decode('utf-8')))\n",
    "\n",
    "url=\"https://raw.githubusercontent.com/abeasock/coding_assessment/master/appointments.csv?_sm_au_=iVV7V2PTJZ3j1f00\"\n",
    "s=requests.get(url).content\n",
    "appointments = pd.read_csv(io.StringIO(s.decode('utf-8')))\n"
   ]
  },
  {
   "cell_type": "code",
   "execution_count": 57,
   "metadata": {},
   "outputs": [],
   "source": [
    "#Joining and keeping only matching records\n",
    "patient_appt = patients.merge(appointments, how='inner', left_on='patient_id', right_on='id')"
   ]
  },
  {
   "cell_type": "code",
   "execution_count": 58,
   "metadata": {
    "collapsed": true
   },
   "outputs": [],
   "source": [
    "#Dropping Id variable since it is already contained in Patient_Id column\n",
    "patient_appt.drop('id',axis=1,inplace=True)"
   ]
  },
  {
   "cell_type": "code",
   "execution_count": 59,
   "metadata": {},
   "outputs": [
    {
     "name": "stdout",
     "output_type": "stream",
     "text": [
      "<class 'pandas.core.frame.DataFrame'>\n",
      "Int64Index: 299900 entries, 0 to 299899\n",
      "Data columns (total 13 columns):\n",
      "patient_id                  299900 non-null int64\n",
      "age                         299900 non-null int64\n",
      "gender                      299900 non-null object\n",
      "diabetes                    299900 non-null int64\n",
      "alcoholism                  299900 non-null int64\n",
      "hypertension                299900 non-null int64\n",
      "handicap                    299900 non-null int64\n",
      "smokes                      299900 non-null int64\n",
      "tuberculosis                299900 non-null int64\n",
      "appointment_registration    299900 non-null object\n",
      "appointment_date            299900 non-null object\n",
      "status                      299900 non-null object\n",
      "sms_reminder                299900 non-null object\n",
      "dtypes: int64(8), object(5)\n",
      "memory usage: 32.0+ MB\n"
     ]
    }
   ],
   "source": [
    "#Examining variables for missing values.  None found!\n",
    "patient_appt.info()"
   ]
  },
  {
   "cell_type": "markdown",
   "metadata": {},
   "source": [
    "Step 2a: Derive a new variable day_of_week to provide the day of the week the appointment was scheduled for. "
   ]
  },
  {
   "cell_type": "code",
   "execution_count": 60,
   "metadata": {
    "collapsed": true
   },
   "outputs": [],
   "source": [
    "#Extracting weekday name from appointment date\n",
    "import dateutil.parser\n",
    "def parse_full_date(row):\n",
    "    yourdate = pd.to_datetime(dateutil.parser.parse(row['appointment_date']))\n",
    "    return yourdate\n",
    "\n",
    "patient_appt['day_of_week'] = patient_appt.apply(parse_full_date,axis=1)\n",
    "patient_appt['day_of_week'] = patient_appt['day_of_week'].dt.weekday_name"
   ]
  },
  {
   "cell_type": "markdown",
   "metadata": {},
   "source": [
    "Step 2b: Take a frequency count of day_of_week to examine what day of the week patients are most\n",
    "likely to not show up for an appointment."
   ]
  },
  {
   "cell_type": "code",
   "execution_count": 61,
   "metadata": {},
   "outputs": [
    {
     "data": {
      "text/plain": [
       "Monday       19044\n",
       "Wednesday    18910\n",
       "Tuesday      18145\n",
       "Thursday     17844\n",
       "Friday       16239\n",
       "Saturday       513\n",
       "Sunday           1\n",
       "Name: day_of_week, dtype: int64"
      ]
     },
     "execution_count": 61,
     "metadata": {},
     "output_type": "execute_result"
    }
   ],
   "source": [
    "#Patients are not likely to show up mostly on Mondays.\n",
    "patient_appt[patient_appt['status']=='No-Show']['day_of_week'].value_counts()"
   ]
  },
  {
   "cell_type": "markdown",
   "metadata": {},
   "source": [
    "Step 3: Bin the ages into 10 groups and plot status by age."
   ]
  },
  {
   "cell_type": "code",
   "execution_count": 8,
   "metadata": {
    "collapsed": true
   },
   "outputs": [],
   "source": [
    "#Binning ages into 10 groups.\n",
    "bins = [0, 10, 20, 30, 40, 50, 60, 70, 80, 90, 100]\n",
    "group_names = ['<10', '10-20', '21-30', '31-40', '41-50', '51-60', '61-70', '71-80', '81-90', '>90']\n",
    "age_group = pd.cut(patient_appt['age'], bins, labels=group_names)\n",
    "patient_appt['age_group'] = pd.cut(patient_appt['age'], bins, labels=group_names)"
   ]
  },
  {
   "cell_type": "code",
   "execution_count": 9,
   "metadata": {},
   "outputs": [
    {
     "data": {
      "image/png": "[encoded data removed]",
      "text/plain": [
       "<matplotlib.figure.Figure at 0x113be898>"
      ]
     },
     "metadata": {},
     "output_type": "display_data"
    }
   ],
   "source": [
    "#Plotting status by age groups.\n",
    "%matplotlib inline\n",
    "import seaborn as sns\n",
    "\n",
    "sns.set(style=\"whitegrid\", color_codes=True)\n",
    "sns.countplot(x=\"age_group\", hue=\"status\", data=patient_appt, order=group_names);"
   ]
  },
  {
   "cell_type": "markdown",
   "metadata": {},
   "source": [
    "Step 4: Build a basic model to predict whether a patient shows up for their appointment."
   ]
  },
  {
   "cell_type": "code",
   "execution_count": 62,
   "metadata": {},
   "outputs": [],
   "source": [
    "#Frequency counts of number of show-up and no-shows.\n",
    "patient_appt.status.value_counts()\n",
    "\n",
    "#Converting patient_id column to string.\n",
    "patient_appt['patient_id'] = patient_appt['patient_id'].astype(str)"
   ]
  },
  {
   "cell_type": "code",
   "execution_count": 63,
   "metadata": {},
   "outputs": [
    {
     "data": {
      "text/html": [
       "<div>\n",
       "<style>\n",
       "    .dataframe thead tr:only-child th {\n",
       "        text-align: right;\n",
       "    }\n",
       "\n",
       "    .dataframe thead th {\n",
       "        text-align: left;\n",
       "    }\n",
       "\n",
       "    .dataframe tbody tr th {\n",
       "        vertical-align: top;\n",
       "    }\n",
       "</style>\n",
       "<table border=\"1\" class=\"dataframe\">\n",
       "  <thead>\n",
       "    <tr style=\"text-align: right;\">\n",
       "      <th></th>\n",
       "      <th>age</th>\n",
       "      <th>diabetes</th>\n",
       "      <th>alcoholism</th>\n",
       "      <th>hypertension</th>\n",
       "      <th>handicap</th>\n",
       "      <th>smokes</th>\n",
       "      <th>tuberculosis</th>\n",
       "    </tr>\n",
       "  </thead>\n",
       "  <tbody>\n",
       "    <tr>\n",
       "      <th>count</th>\n",
       "      <td>299900.000000</td>\n",
       "      <td>299900.000000</td>\n",
       "      <td>299900.000000</td>\n",
       "      <td>299900.000000</td>\n",
       "      <td>299900.000000</td>\n",
       "      <td>299900.000000</td>\n",
       "      <td>299900.000000</td>\n",
       "    </tr>\n",
       "    <tr>\n",
       "      <th>mean</th>\n",
       "      <td>37.808173</td>\n",
       "      <td>0.077973</td>\n",
       "      <td>0.025015</td>\n",
       "      <td>0.215899</td>\n",
       "      <td>0.020520</td>\n",
       "      <td>0.052374</td>\n",
       "      <td>0.000450</td>\n",
       "    </tr>\n",
       "    <tr>\n",
       "      <th>std</th>\n",
       "      <td>22.808943</td>\n",
       "      <td>0.268129</td>\n",
       "      <td>0.156171</td>\n",
       "      <td>0.411445</td>\n",
       "      <td>0.155929</td>\n",
       "      <td>0.222781</td>\n",
       "      <td>0.021212</td>\n",
       "    </tr>\n",
       "    <tr>\n",
       "      <th>min</th>\n",
       "      <td>-2.000000</td>\n",
       "      <td>0.000000</td>\n",
       "      <td>0.000000</td>\n",
       "      <td>0.000000</td>\n",
       "      <td>0.000000</td>\n",
       "      <td>0.000000</td>\n",
       "      <td>0.000000</td>\n",
       "    </tr>\n",
       "    <tr>\n",
       "      <th>25%</th>\n",
       "      <td>19.000000</td>\n",
       "      <td>0.000000</td>\n",
       "      <td>0.000000</td>\n",
       "      <td>0.000000</td>\n",
       "      <td>0.000000</td>\n",
       "      <td>0.000000</td>\n",
       "      <td>0.000000</td>\n",
       "    </tr>\n",
       "    <tr>\n",
       "      <th>50%</th>\n",
       "      <td>38.000000</td>\n",
       "      <td>0.000000</td>\n",
       "      <td>0.000000</td>\n",
       "      <td>0.000000</td>\n",
       "      <td>0.000000</td>\n",
       "      <td>0.000000</td>\n",
       "      <td>0.000000</td>\n",
       "    </tr>\n",
       "    <tr>\n",
       "      <th>75%</th>\n",
       "      <td>56.000000</td>\n",
       "      <td>0.000000</td>\n",
       "      <td>0.000000</td>\n",
       "      <td>0.000000</td>\n",
       "      <td>0.000000</td>\n",
       "      <td>0.000000</td>\n",
       "      <td>0.000000</td>\n",
       "    </tr>\n",
       "    <tr>\n",
       "      <th>max</th>\n",
       "      <td>113.000000</td>\n",
       "      <td>1.000000</td>\n",
       "      <td>1.000000</td>\n",
       "      <td>1.000000</td>\n",
       "      <td>4.000000</td>\n",
       "      <td>1.000000</td>\n",
       "      <td>1.000000</td>\n",
       "    </tr>\n",
       "  </tbody>\n",
       "</table>\n",
       "</div>"
      ],
      "text/plain": [
       "                 age       diabetes     alcoholism   hypertension  \\\n",
       "count  299900.000000  299900.000000  299900.000000  299900.000000   \n",
       "mean       37.808173       0.077973       0.025015       0.215899   \n",
       "std        22.808943       0.268129       0.156171       0.411445   \n",
       "min        -2.000000       0.000000       0.000000       0.000000   \n",
       "25%        19.000000       0.000000       0.000000       0.000000   \n",
       "50%        38.000000       0.000000       0.000000       0.000000   \n",
       "75%        56.000000       0.000000       0.000000       0.000000   \n",
       "max       113.000000       1.000000       1.000000       1.000000   \n",
       "\n",
       "            handicap         smokes   tuberculosis  \n",
       "count  299900.000000  299900.000000  299900.000000  \n",
       "mean        0.020520       0.052374       0.000450  \n",
       "std         0.155929       0.222781       0.021212  \n",
       "min         0.000000       0.000000       0.000000  \n",
       "25%         0.000000       0.000000       0.000000  \n",
       "50%         0.000000       0.000000       0.000000  \n",
       "75%         0.000000       0.000000       0.000000  \n",
       "max         4.000000       1.000000       1.000000  "
      ]
     },
     "execution_count": 63,
     "metadata": {},
     "output_type": "execute_result"
    }
   ],
   "source": [
    "#Analyzing summary statistics of the variables \n",
    "#Frpatient_appt.describe()"
   ]
  },
  {
   "cell_type": "code",
   "execution_count": 64,
   "metadata": {},
   "outputs": [],
   "source": [
    "#From the descriptive statistics values, we find that handicap variable has 5 levels.  So we convert it to str.\n",
    "patient_appt.handicap.value_counts()\n",
    "patient_appt['handicap'] = patient_appt['handicap'].astype(str)"
   ]
  },
  {
   "cell_type": "code",
   "execution_count": 65,
   "metadata": {},
   "outputs": [
    {
     "data": {
      "image/png": "[encoded data removed]",
      "text/plain": [
       "<matplotlib.figure.Figure at 0x1c6776d8>"
      ]
     },
     "metadata": {},
     "output_type": "display_data"
    },
    {
     "data": {
      "image/png": "[encoded data removed]",
      "text/plain": [
       "<matplotlib.figure.Figure at 0x259ca8d0>"
      ]
     },
     "metadata": {},
     "output_type": "display_data"
    }
   ],
   "source": [
    "#Seeing distributions of variables for outliers, skewness etc.\n",
    "import matplotlib.pyplot as plt\n",
    "patient_appt.boxplot()\n",
    "patient_appt.hist(figsize=(20,20));"
   ]
  },
  {
   "cell_type": "code",
   "execution_count": 66,
   "metadata": {},
   "outputs": [
    {
     "data": {
      "text/plain": [
       "Index(['age', 'diabetes', 'alcoholism', 'hypertension', 'smokes',\n",
       "       'tuberculosis', 'gender_F', 'gender_M', 'handicap_0', 'handicap_1',\n",
       "       'handicap_2', 'handicap_3', 'handicap_4', 'sms_reminder_No',\n",
       "       'sms_reminder_Yes', 'day_of_week_Friday', 'day_of_week_Monday',\n",
       "       'day_of_week_Saturday', 'day_of_week_Sunday', 'day_of_week_Thursday',\n",
       "       'day_of_week_Tuesday', 'day_of_week_Wednesday'],\n",
       "      dtype='object')"
      ]
     },
     "execution_count": 66,
     "metadata": {},
     "output_type": "execute_result"
    }
   ],
   "source": [
    "#Separating independent (X) and dependent variable(Y).\n",
    "X = patient_appt[['age','gender','diabetes','alcoholism','hypertension','handicap','smokes','tuberculosis','sms_reminder','day_of_week']]\n",
    "y = patient_appt['status']\n",
    "#Imputing variables with median incase there are missing values in future.  Not the best technique, but just for time being.\n",
    "X_d = X.fillna(X.median())\n",
    "#Getting binary dummy variables for categorical columns.\n",
    "X_d = pd.get_dummies(X_d)\n",
    "X_d.columns"
   ]
  },
  {
   "cell_type": "code",
   "execution_count": 13,
   "metadata": {
    "collapsed": true
   },
   "outputs": [],
   "source": [
    "#Scaling input variables for linear models because Age is in a different scale.\n",
    "from sklearn.preprocessing import MinMaxScaler\n",
    "scaler = MinMaxScaler()\n",
    "scaler.fit(X_d)\n",
    "X_Mscaled = scaler.transform(X_d)"
   ]
  },
  {
   "cell_type": "code",
   "execution_count": 67,
   "metadata": {
    "collapsed": true
   },
   "outputs": [],
   "source": [
    "#Scaling input variables for linear models because Age is in a different scale.\n",
    "from sklearn.preprocessing import StandardScaler\n",
    "scaler = StandardScaler()\n",
    "scaler.fit(X_d)\n",
    "X_Sscaled = scaler.transform(X_d)"
   ]
  },
  {
   "cell_type": "code",
   "execution_count": 68,
   "metadata": {
    "collapsed": true
   },
   "outputs": [],
   "source": [
    "#Using standard scaler for data partition because outlier effect is minimal.\n",
    "from sklearn.model_selection import train_test_split\n",
    "X_train, X_test, y_train, y_test = train_test_split(X_Sscaled,y,random_state=42, stratify=y)"
   ]
  },
  {
   "cell_type": "code",
   "execution_count": 69,
   "metadata": {
    "collapsed": true
   },
   "outputs": [],
   "source": [
    "#Creating polynomial terms with degree 2 for regression.\n",
    "from sklearn.preprocessing import PolynomialFeatures\n",
    "poly = PolynomialFeatures(degree=2).fit(X_train)\n",
    "X_train_poly = poly.transform(X_train)\n",
    "X_test_poly = poly.transform(X_test)"
   ]
  },
  {
   "cell_type": "code",
   "execution_count": 71,
   "metadata": {},
   "outputs": [
    {
     "name": "stdout",
     "output_type": "stream",
     "text": [
      "Training set score: 0.698\n",
      "Test set score: 0.698\n"
     ]
    }
   ],
   "source": [
    "#Building logistic regression model with C value of 10 and checking training and test accuracies.\n",
    "from sklearn.linear_model import LogisticRegression\n",
    "logreg = LogisticRegression(C=10,random_state=0)\n",
    "logreg.fit(X_train,y_train)\n",
    "print(\"Training set score: {:.3f}\".format(logreg.score(X_train, y_train)))\n",
    "print(\"Test set score: {:.3f}\".format(logreg.score(X_test, y_test)))"
   ]
  },
  {
   "cell_type": "code",
   "execution_count": 72,
   "metadata": {},
   "outputs": [
    {
     "name": "stdout",
     "output_type": "stream",
     "text": [
      "Training set score: 0.712\n",
      "Test set score: 0.687\n"
     ]
    }
   ],
   "source": [
    "#Building Random Forest model and checking training and test accuracies.\n",
    "from sklearn.ensemble import RandomForestClassifier\n",
    "rfc = RandomForestClassifier(n_estimators=50,max_depth=40,random_state=0)\n",
    "rfc.fit(X_train,y_train)\n",
    "print(\"Training set score: {:.3f}\".format(rfc.score(X_train, y_train)))\n",
    "print(\"Test set score: {:.3f}\".format(rfc.score(X_test, y_test)))"
   ]
  },
  {
   "cell_type": "code",
   "execution_count": 73,
   "metadata": {},
   "outputs": [
    {
     "name": "stdout",
     "output_type": "stream",
     "text": [
      "Training set score: 0.712\n",
      "Test set score: 0.684\n"
     ]
    }
   ],
   "source": [
    "#Building Decision Tree model and checking training and test accuracies.\n",
    "from sklearn.tree import DecisionTreeClassifier\n",
    "dtc = DecisionTreeClassifier(random_state = 0)\n",
    "dtc.fit(X_train,y_train)\n",
    "print(\"Training set score: {:.3f}\".format(dtc.score(X_train, y_train)))\n",
    "print(\"Test set score: {:.3f}\".format(dtc.score(X_test, y_test)))"
   ]
  },
  {
   "cell_type": "code",
   "execution_count": 42,
   "metadata": {},
   "outputs": [
    {
     "name": "stdout",
     "output_type": "stream",
     "text": [
      "Training set score: 0.698\n",
      "Test set score: 0.697\n"
     ]
    }
   ],
   "source": [
    "#Building MLP Neural network model and checking training and test accuracies.\n",
    "from sklearn.neural_network import MLPClassifier\n",
    "mlp = MLPClassifier(solver='lbfgs', random_state=0).fit(X_train, y_train)\n",
    "print(\"Training set score: {:.3f}\".format(mlp.score(X_train, y_train)))\n",
    "print(\"Test set score: {:.3f}\".format(mlp.score(X_test, y_test)))"
   ]
  },
  {
   "cell_type": "code",
   "execution_count": null,
   "metadata": {
    "collapsed": true
   },
   "outputs": [],
   "source": []
  }
 ],
 "metadata": {
  "kernelspec": {
   "display_name": "Python 3",
   "language": "python",
   "name": "python3"
  },
  "language_info": {
   "codemirror_mode": {
    "name": "ipython",
    "version": 3
   },
   "file_extension": ".py",
   "mimetype": "text/x-python",
   "name": "python",
   "nbconvert_exporter": "python",
   "pygments_lexer": "ipython3",
   "version": "3.6.1"
  }
 },
 "nbformat": 4,
 "nbformat_minor": 2
}
